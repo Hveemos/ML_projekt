{
 "cells": [
  {
   "cell_type": "code",
   "execution_count": 1,
   "metadata": {},
   "outputs": [],
   "source": [
    "from pathlib import Path\n",
    "import pandas as pd\n",
    "from sentence_transformers import SentenceTransformer, util\n",
    "import torch\n",
    "\n",
    "PATH_TO_MODELS=Path('models')\n",
    "PATH_TO_DATA=Path('data')"
   ]
  },
  {
   "cell_type": "code",
   "execution_count": 14,
   "metadata": {},
   "outputs": [
    {
     "data": {
      "text/plain": [
       "(477146, 7)"
      ]
     },
     "execution_count": 14,
     "metadata": {},
     "output_type": "execute_result"
    }
   ],
   "source": [
    "df=pd.read_parquet(PATH_TO_DATA / 'data_dokdelar.pqt')\n",
    "# reset index (because the embedding search will return the index)\n",
    "df=df.reset_index(drop=False)\n",
    "df.rename(columns={'index':'doc_id_nr'},inplace=True)\n",
    "# Split doc_id_nr into doc_id and nr\n",
    "df['dok_id'], df['nr'] = zip(*(df.doc_id_nr.str.split('_',expand=False)))\n",
    "\n",
    "df.shape"
   ]
  },
  {
   "cell_type": "code",
   "execution_count": 37,
   "metadata": {},
   "outputs": [
    {
     "data": {
      "text/plain": [
       "Index(['doc_id_nr', 'Titel', 'rm', 'doktyp', 'Departement', 'Utskott',\n",
       "       'dokdelar'],\n",
       "      dtype='object')"
      ]
     },
     "execution_count": 37,
     "metadata": {},
     "output_type": "execute_result"
    }
   ],
   "source": [
    "df.columns"
   ]
  },
  {
   "cell_type": "code",
   "execution_count": 4,
   "metadata": {},
   "outputs": [],
   "source": [
    "# load embedings from PATH_TO_MODELS using torch.load\n",
    "embeddings=torch.load(PATH_TO_MODELS / 'embeddings.pt',map_location=torch.device('cpu'))\n",
    "# embeddings are tensors normalized to unit length in oprder to facilitate faster similarity search using dot product\n",
    "# Note that the embeddings are in pytorch tensors and not numpy arrays"
   ]
  },
  {
   "cell_type": "code",
   "execution_count": 5,
   "metadata": {},
   "outputs": [],
   "source": [
    "# load language model sentence-bert \n",
    "model = SentenceTransformer('KBLab/sentence-bert-swedish-cased',device='cpu')"
   ]
  },
  {
   "cell_type": "code",
   "execution_count": 6,
   "metadata": {},
   "outputs": [],
   "source": [
    "# define query and encode it using the transformer model\n",
    "query=\"Skolverkets statistik är viktig för att elever och vårdnadshavare ska kunna göra ett informerat skolval, för att rikta statliga insatser och för att kunna utvärdera olika insatser på skolområdet. Riksrevisionen har granskat om Skolverket på ett effektivt sätt uppfyller sitt uppdrag om framtagande och användning av statistik för skolval, resursfördelning samt uppföljning och utvärdering av skolverksamheten.\"\n",
    "query_embedding = model.encode(query, convert_to_tensor=True, normalize_embeddings=True)"
   ]
  },
  {
   "cell_type": "code",
   "execution_count": 7,
   "metadata": {},
   "outputs": [],
   "source": [
    "# find closest documents to query\n",
    "# Since the tensors are normalized, we can use the more efficient dot-product as score function\n",
    "hits = util.semantic_search(query_embedding, embeddings, score_function=util.dot_score, top_k=10)"
   ]
  },
  {
   "cell_type": "code",
   "execution_count": 51,
   "metadata": {},
   "outputs": [
    {
     "name": "stdout",
     "output_type": "stream",
     "text": [
      "hab334 :: sou :: I mål - vägar vidare för att fler unga ska nå målen med sin gymnasieutbildning \n",
      "h3b371d2 :: sou :: Barns och ungas rätt vid tvångsvård (del B)\n",
      "h803141 :: prop :: Tidsbegränsad lösning för att säkerställa tillgång till skolinformation\n",
      "h9b370 :: sou :: Läromedelsutredningen - böckernas betydelse och elevernas tillgång till kunskap \n",
      "h8b366 :: sou :: Samverkande krafter - för stärkt kvalitet och likvärdighet inom komvux för elever med svenska som andraspråk \n",
      "h6b341 :: sou :: Statliga skolmyndigheter - för elever och barn i en bättre skola\n",
      "h4b366 :: sou :: Det stämmer!\n",
      "h70339 :: prop :: Riksrevisionens rapport om grundsärskolans kunskapsuppdrag\n",
      "h90339 :: prop :: Riksrevisionens rapport om Pisa-undersökningen 2018\n",
      "hab353d2 :: sou :: Statens ansvar för skolan - ett besluts- och kunskapsunderlag - Volym 2\n"
     ]
    }
   ],
   "source": [
    "# Example: Print index doktyp and title of the first 10 hits\n",
    "for hit in hits[0]:\n",
    "  print(df.iloc[hit['corpus_id']]['dok_id'],'::',df.iloc[hit['corpus_id']]['doktyp'], '::', df.iloc[hit['corpus_id']]['Titel'])"
   ]
  },
  {
   "cell_type": "code",
   "execution_count": 22,
   "metadata": {},
   "outputs": [
    {
     "data": {
      "text/html": [
       "<div>\n",
       "<style scoped>\n",
       "    .dataframe tbody tr th:only-of-type {\n",
       "        vertical-align: middle;\n",
       "    }\n",
       "\n",
       "    .dataframe tbody tr th {\n",
       "        vertical-align: top;\n",
       "    }\n",
       "\n",
       "    .dataframe thead th {\n",
       "        text-align: right;\n",
       "    }\n",
       "</style>\n",
       "<table border=\"1\" class=\"dataframe\">\n",
       "  <thead>\n",
       "    <tr style=\"text-align: right;\">\n",
       "      <th></th>\n",
       "      <th>doc_id_nr</th>\n",
       "      <th>Titel</th>\n",
       "      <th>rm</th>\n",
       "      <th>doktyp</th>\n",
       "      <th>Departement</th>\n",
       "      <th>Utskott</th>\n",
       "      <th>dokdelar</th>\n",
       "    </tr>\n",
       "  </thead>\n",
       "  <tbody>\n",
       "    <tr>\n",
       "      <th>463134</th>\n",
       "      <td>hab334_312</td>\n",
       "      <td>I mål - vägar vidare för att fler unga ska nå ...</td>\n",
       "      <td>2022</td>\n",
       "      <td>sou</td>\n",
       "      <td>None</td>\n",
       "      <td>None</td>\n",
       "      <td>att fastställa hur många gymnasieelever som ta...</td>\n",
       "    </tr>\n",
       "    <tr>\n",
       "      <th>242106</th>\n",
       "      <td>h3b371d2_282</td>\n",
       "      <td>Barns och ungas rätt vid tvångsvård (del B)</td>\n",
       "      <td>2015</td>\n",
       "      <td>sou</td>\n",
       "      <td>None</td>\n",
       "      <td>None</td>\n",
       "      <td>kön och medborgarskap. Statistiska centralbyrå...</td>\n",
       "    </tr>\n",
       "    <tr>\n",
       "      <th>44456</th>\n",
       "      <td>h803141_16</td>\n",
       "      <td>Tidsbegränsad lösning för att säkerställa till...</td>\n",
       "      <td>2020/21</td>\n",
       "      <td>prop</td>\n",
       "      <td>Utbildningsdepartementet</td>\n",
       "      <td>KU</td>\n",
       "      <td>i landet, deras adresser, kontaktuppgifter och...</td>\n",
       "    </tr>\n",
       "    <tr>\n",
       "      <th>443243</th>\n",
       "      <td>h9b370_93</td>\n",
       "      <td>Läromedelsutredningen - böckernas betydelse oc...</td>\n",
       "      <td>2021</td>\n",
       "      <td>sou</td>\n",
       "      <td>None</td>\n",
       "      <td>None</td>\n",
       "      <td>utvärdera utbildningarnas kvalitet samt främja...</td>\n",
       "    </tr>\n",
       "    <tr>\n",
       "      <th>405925</th>\n",
       "      <td>h8b366_128</td>\n",
       "      <td>Samverkande krafter - för stärkt kvalitet och ...</td>\n",
       "      <td>2020</td>\n",
       "      <td>sou</td>\n",
       "      <td>None</td>\n",
       "      <td>None</td>\n",
       "      <td>och redovisa dem i den nationella statistiken....</td>\n",
       "    </tr>\n",
       "    <tr>\n",
       "      <th>339036</th>\n",
       "      <td>h6b341_242</td>\n",
       "      <td>Statliga skolmyndigheter - för elever och barn...</td>\n",
       "      <td>2018</td>\n",
       "      <td>sou</td>\n",
       "      <td>None</td>\n",
       "      <td>None</td>\n",
       "      <td>majoritet att kommunerna har förutsättningar f...</td>\n",
       "    </tr>\n",
       "    <tr>\n",
       "      <th>275382</th>\n",
       "      <td>h4b366_31</td>\n",
       "      <td>Det stämmer!</td>\n",
       "      <td>2016</td>\n",
       "      <td>sou</td>\n",
       "      <td>None</td>\n",
       "      <td>None</td>\n",
       "      <td>ha tillstånd. Skolinspektionen beslutar om såd...</td>\n",
       "    </tr>\n",
       "    <tr>\n",
       "      <th>32760</th>\n",
       "      <td>h70339_59</td>\n",
       "      <td>Riksrevisionens rapport om grundsärskolans kun...</td>\n",
       "      <td>2019/20</td>\n",
       "      <td>prop</td>\n",
       "      <td>Utbildningsdepartementet</td>\n",
       "      <td>UbU</td>\n",
       "      <td>K A P S U P P D R A G – S T Y R N I N G , S T ...</td>\n",
       "    </tr>\n",
       "    <tr>\n",
       "      <th>96282</th>\n",
       "      <td>h90339_21</td>\n",
       "      <td>Riksrevisionens rapport om Pisa-undersökningen...</td>\n",
       "      <td>2021/22</td>\n",
       "      <td>prop</td>\n",
       "      <td>Utbildningsdepartementet</td>\n",
       "      <td>UbU</td>\n",
       "      <td>verksamheten och ska se till att den bedrivs e...</td>\n",
       "    </tr>\n",
       "    <tr>\n",
       "      <th>471719</th>\n",
       "      <td>hab353d2_87</td>\n",
       "      <td>Statens ansvar för skolan - ett besluts- och k...</td>\n",
       "      <td>2022</td>\n",
       "      <td>sou</td>\n",
       "      <td>None</td>\n",
       "      <td>None</td>\n",
       "      <td>fastställas av regeringen. Syftet med ramverke...</td>\n",
       "    </tr>\n",
       "  </tbody>\n",
       "</table>\n",
       "</div>"
      ],
      "text/plain": [
       "           doc_id_nr                                              Titel  \\\n",
       "463134    hab334_312  I mål - vägar vidare för att fler unga ska nå ...   \n",
       "242106  h3b371d2_282        Barns och ungas rätt vid tvångsvård (del B)   \n",
       "44456     h803141_16  Tidsbegränsad lösning för att säkerställa till...   \n",
       "443243     h9b370_93  Läromedelsutredningen - böckernas betydelse oc...   \n",
       "405925    h8b366_128  Samverkande krafter - för stärkt kvalitet och ...   \n",
       "339036    h6b341_242  Statliga skolmyndigheter - för elever och barn...   \n",
       "275382     h4b366_31                                       Det stämmer!   \n",
       "32760      h70339_59  Riksrevisionens rapport om grundsärskolans kun...   \n",
       "96282      h90339_21  Riksrevisionens rapport om Pisa-undersökningen...   \n",
       "471719   hab353d2_87  Statens ansvar för skolan - ett besluts- och k...   \n",
       "\n",
       "             rm doktyp               Departement Utskott  \\\n",
       "463134     2022    sou                      None    None   \n",
       "242106     2015    sou                      None    None   \n",
       "44456   2020/21   prop  Utbildningsdepartementet      KU   \n",
       "443243     2021    sou                      None    None   \n",
       "405925     2020    sou                      None    None   \n",
       "339036     2018    sou                      None    None   \n",
       "275382     2016    sou                      None    None   \n",
       "32760   2019/20   prop  Utbildningsdepartementet     UbU   \n",
       "96282   2021/22   prop  Utbildningsdepartementet     UbU   \n",
       "471719     2022    sou                      None    None   \n",
       "\n",
       "                                                 dokdelar  \n",
       "463134  att fastställa hur många gymnasieelever som ta...  \n",
       "242106  kön och medborgarskap. Statistiska centralbyrå...  \n",
       "44456   i landet, deras adresser, kontaktuppgifter och...  \n",
       "443243  utvärdera utbildningarnas kvalitet samt främja...  \n",
       "405925  och redovisa dem i den nationella statistiken....  \n",
       "339036  majoritet att kommunerna har förutsättningar f...  \n",
       "275382  ha tillstånd. Skolinspektionen beslutar om såd...  \n",
       "32760   K A P S U P P D R A G – S T Y R N I N G , S T ...  \n",
       "96282   verksamheten och ska se till att den bedrivs e...  \n",
       "471719  fastställas av regeringen. Syftet med ramverke...  "
      ]
     },
     "execution_count": 22,
     "metadata": {},
     "output_type": "execute_result"
    }
   ],
   "source": [
    "# An other way of return results:\n",
    "# make a list of corpus_ids\n",
    "corpus_ids=[hit['corpus_id'] for hit in hits[0]]\n",
    "# filter df on corpus_ids\n",
    "df.filter(corpus_ids, axis=0)"
   ]
  },
  {
   "cell_type": "code",
   "execution_count": null,
   "metadata": {},
   "outputs": [],
   "source": []
  }
 ],
 "metadata": {
  "kernelspec": {
   "display_name": "Python 3.9.13 64-bit (microsoft store)",
   "language": "python",
   "name": "python3"
  },
  "language_info": {
   "codemirror_mode": {
    "name": "ipython",
    "version": 3
   },
   "file_extension": ".py",
   "mimetype": "text/x-python",
   "name": "python",
   "nbconvert_exporter": "python",
   "pygments_lexer": "ipython3",
   "version": "3.9.13"
  },
  "orig_nbformat": 4,
  "vscode": {
   "interpreter": {
    "hash": "3e2264cc5bb787b5b292b74fdcfb2b34601add397276df68cf7416844926b45e"
   }
  }
 },
 "nbformat": 4,
 "nbformat_minor": 2
}
