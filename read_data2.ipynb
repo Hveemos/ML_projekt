{
 "cells": [
  {
   "cell_type": "code",
   "execution_count": 1,
   "metadata": {},
   "outputs": [],
   "source": [
    "import pandas as pd\n",
    "from pathlib import Path\n",
    "import re\n",
    "import pandas as pd\n",
    "import tqdm\n",
    "\n",
    "PATH_TO_FILES=Path('C:\\Datalab\\sida_projekt\\sida_projekt\\Riksdagsdata\\Propositioner')\n",
    "PATH_TO_OUTDATA=Path('data')\n",
    "\n",
    "# Skippa dokument med titlar som innehåller:\n",
    "FILTER_TITLE='vårproposition|budgetproposition|ändringsbudget' # Lämna tom sträng om du inte vill filtrera\n"
   ]
  },
  {
   "cell_type": "code",
   "execution_count": 8,
   "metadata": {},
   "outputs": [],
   "source": [
    "def read_to_df(PATH_TO_FILES=PATH_TO_FILES,FILTER_TITLE=''):\n",
    "    \n",
    "    # Read metadata\n",
    "    df1=pd.read_csv(PATH_TO_FILES / 'prop-2018-2021.csv',header=None)\n",
    "    df2=pd.read_csv(PATH_TO_FILES /'prop-2014-2017.csv',header=None)\n",
    "    df=pd.concat([df1,df2])\n",
    "    print('Raw input shape', df.shape)\n",
    "\n",
    "    #Pre-processing\n",
    "    df.loc[:,1]=df.loc[:,1].str.lower()\n",
    "    df.set_index(1, inplace=True)\n",
    "    df.index.rename('filename', inplace=True)\n",
    "    df=df.rename(columns={2:'rm',8:'Departement',9:'Utskott',13:'Titel'})\n",
    "\n",
    "    # Filter out\n",
    "    df=df.loc[~df['Titel'].str.contains(FILTER_TITLE,flags=re.I),['Titel','rm','Departement','Utskott']]\n",
    "    print('Output shape:',df.shape)\n",
    "    return df\n",
    "\n",
    "def add_space(text):\n",
    "    \"\"\" Adds space before (suspected) chapter\"\"\"\n",
    "    return re.sub('\\.\\s*(\\n[A-Ö\\d][\\.]?\\w*:?( [\\w\\-–:]*){0,7}\\s*?\\n+)[A-Ö]',r'\\n\\1',text)\n",
    "\n",
    "def remove_chapnumber(text):\n",
    "    \"\"\"Remove chapter number\n",
    "    Returns cleaned text\"\"\"\n",
    "    return re.sub('\\n\\d+\\.\\d+\\n|\\n\\d+\\n','',text)\n",
    "\n",
    "def avstava(text):\n",
    "    \n",
    "    # Ta bort sidnummer om det kommer in i en avstavning\n",
    "    text=re.sub('([a-ö]{2,}-\\s*)(\\d+)',r'\\1',text)\n",
    "\n",
    "    streck=re.compile(r\"\"\"  (?!it)          # Matcha inte på it\n",
    "                            (               # Grupp 1 innehåller grupp 2 till 4:\n",
    "                                ([a-ö]{2,})     # Grupp 2 första delen av det eventuellt avstavade ordet (kräver minst 2 bokstäver)\n",
    "                                (-\\s*\\d*\\s*)    # Grupp 3 vill vi ta bort från hela grupp 0 (fångar även insprängda sidnummer)\n",
    "                                ([a-ö]*)        # Grupp 4 Sista delen i det eventuellt avstavade ordet\n",
    "                                )\"\"\"            # Notera att vi, i grupp 4, endast matchar på små bokstäver från a till ö\n",
    "        ,                                       \n",
    "        re.X + re.U\n",
    "    )       \n",
    "        \n",
    "    def dashrepl(matchobj):\n",
    "        \"\"\" Fixar avstavningar \"\"\"\n",
    "        if matchobj.group(4) is None:\n",
    "            return matchobj.group(0)\n",
    "        elif matchobj.group(2).islower():\n",
    "            if (matchobj.group(2) in ['bnp','tfp']) or (matchobj.group(4) in ['och','eller']): # Manuella tillägg av godkända prefix och ord efter bindesstrecket som är tillåtna.\n",
    "                return matchobj.group(0)\n",
    "            else:\n",
    "                return matchobj.group(2) + matchobj.group(4)\n",
    "        else:\n",
    "            return matchobj.group(0) \n",
    "\n",
    "    return re.sub(streck,dashrepl,text)\n",
    "\n",
    "def cleaner(text):\n",
    "    \"\"\"Chained cleaner functions\"\"\"\n",
    "    return add_space(remove_chapnumber(avstava(text)))\n",
    "\n",
    "def import_and_clean_txt(df, PATH_TO_FILES=PATH_TO_FILES,clean=True):\n",
    "    for ids, row in tqdm(df.iterrows(), total=df.shape[0]):\n",
    "        try:    \n",
    "            with open(PATH_TO_FILES / (ids + '.txt'), encoding='utf8') as file:\n",
    "                if clean:\n",
    "                    df.at[ids,'text']=cleaner(file.read())\n",
    "                else:\n",
    "                    df.at[ids,'text']=file.read()\n",
    "        except FileNotFoundError as ex:\n",
    "            print(ex)\n",
    "            print(ids, row['Titel'])\n",
    "            df.at[ids,'text']='' # File not found\n",
    "    print('Tomma dokument')\n",
    "    print(df.loc[df.text==''])\n",
    "    print('Tar bort tomma dokument...')\n",
    "\n",
    "    return df.loc[~(df.text=='')]"
   ]
  },
  {
   "cell_type": "code",
   "execution_count": null,
   "metadata": {},
   "outputs": [],
   "source": [
    "df=read_to_df(PATH_TO_FILES=PATH_TO_FILES,FILTER_TITLE=FILTER_TITLE)\n",
    "df=import_and_clean_txt(df)\n",
    "print('df.shape:',df.shape)"
   ]
  },
  {
   "cell_type": "code",
   "execution_count": 35,
   "metadata": {},
   "outputs": [],
   "source": [
    "# Pickle vs. parquet save: 2.5s vs. 4.8s\n",
    "df.to_pickle(PATH_TO_OUTDATA / 'data.pkl')\n",
    "\n",
    "# Pickle vs. parquet load: 1.8 vs. 3.6\n",
    "# df_pqt=pd.read_pickle(PATH_TO_OUTDATA / 'data.pkl')"
   ]
  }
 ],
 "metadata": {
  "kernelspec": {
   "display_name": "Python 3.8.5 ('venv38': venv)",
   "language": "python",
   "name": "python3"
  },
  "language_info": {
   "codemirror_mode": {
    "name": "ipython",
    "version": 3
   },
   "file_extension": ".py",
   "mimetype": "text/x-python",
   "name": "python",
   "nbconvert_exporter": "python",
   "pygments_lexer": "ipython3",
   "version": "3.8.5"
  },
  "orig_nbformat": 4,
  "vscode": {
   "interpreter": {
    "hash": "be4d06bd6a8705c169ef7be9d2e805a60cd5f71512ae6187da237785db6e99c7"
   }
  }
 },
 "nbformat": 4,
 "nbformat_minor": 2
}
