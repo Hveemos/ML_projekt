{
 "cells": [
  {
   "cell_type": "code",
   "execution_count": 10,
   "metadata": {},
   "outputs": [
    {
     "name": "stdout",
     "output_type": "stream",
     "text": [
      "The autoreload extension is already loaded. To reload it, use:\n",
      "  %reload_ext autoreload\n"
     ]
    }
   ],
   "source": [
    "# reload magic\n",
    "%load_ext autoreload\n",
    "%autoreload 2\n",
    "import pandas as pd\n",
    "from pathlib import Path\n",
    "import pandas as pd\n",
    "import tqdm\n",
    "from top2vec import Top2Vec\n",
    "\n",
    "import pandas as pd\n",
    "from pathlib import Path\n",
    "import pandas as pd\n",
    "from top2vec import Top2Vec\n",
    "from sentence_transformers import SentenceTransformer\n",
    "\n",
    "\n",
    "PATH_TO_MODELS=Path('models')\n",
    "PATH_TO_OUTDATA=Path('data')"
   ]
  },
  {
   "cell_type": "code",
   "execution_count": 2,
   "metadata": {},
   "outputs": [
    {
     "data": {
      "text/html": [
       "<div>\n",
       "<style scoped>\n",
       "    .dataframe tbody tr th:only-of-type {\n",
       "        vertical-align: middle;\n",
       "    }\n",
       "\n",
       "    .dataframe tbody tr th {\n",
       "        vertical-align: top;\n",
       "    }\n",
       "\n",
       "    .dataframe thead th {\n",
       "        text-align: right;\n",
       "    }\n",
       "</style>\n",
       "<table border=\"1\" class=\"dataframe\">\n",
       "  <thead>\n",
       "    <tr style=\"text-align: right;\">\n",
       "      <th></th>\n",
       "      <th>Titel</th>\n",
       "      <th>rm</th>\n",
       "      <th>doktyp</th>\n",
       "      <th>Departement</th>\n",
       "      <th>Utskott</th>\n",
       "      <th>dokdelar</th>\n",
       "    </tr>\n",
       "  </thead>\n",
       "  <tbody>\n",
       "    <tr>\n",
       "      <th>h60310_0</th>\n",
       "      <td>Riksrevisionens rapport om deltagarantal i nya...</td>\n",
       "      <td>2018/19</td>\n",
       "      <td>prop</td>\n",
       "      <td>Arbetsmarknadsdepartementet</td>\n",
       "      <td>AU</td>\n",
       "      <td>Regeringens skrivelse 2018/19:10 Riksrevisione...</td>\n",
       "    </tr>\n",
       "    <tr>\n",
       "      <th>h60310_1</th>\n",
       "      <td>Riksrevisionens rapport om deltagarantal i nya...</td>\n",
       "      <td>2018/19</td>\n",
       "      <td>prop</td>\n",
       "      <td>Arbetsmarknadsdepartementet</td>\n",
       "      <td>AU</td>\n",
       "      <td>funktionsnedsättning, Arbetsträning med handle...</td>\n",
       "    </tr>\n",
       "    <tr>\n",
       "      <th>h60310_2</th>\n",
       "      <td>Riksrevisionens rapport om deltagarantal i nya...</td>\n",
       "      <td>2018/19</td>\n",
       "      <td>prop</td>\n",
       "      <td>Arbetsmarknadsdepartementet</td>\n",
       "      <td>AU</td>\n",
       "      <td>ett viktigt bidrag till detta arbete. I och me...</td>\n",
       "    </tr>\n",
       "    <tr>\n",
       "      <th>h60310_3</th>\n",
       "      <td>Riksrevisionens rapport om deltagarantal i nya...</td>\n",
       "      <td>2018/19</td>\n",
       "      <td>prop</td>\n",
       "      <td>Arbetsmarknadsdepartementet</td>\n",
       "      <td>AU</td>\n",
       "      <td>Skr. 2018/19:10 Bilaga D E L T A G A R A N T A...</td>\n",
       "    </tr>\n",
       "    <tr>\n",
       "      <th>h60310_4</th>\n",
       "      <td>Riksrevisionens rapport om deltagarantal i nya...</td>\n",
       "      <td>2018/19</td>\n",
       "      <td>prop</td>\n",
       "      <td>Arbetsmarknadsdepartementet</td>\n",
       "      <td>AU</td>\n",
       "      <td>R A N S K N I N G S R A P P O R T F R Å N R I ...</td>\n",
       "    </tr>\n",
       "  </tbody>\n",
       "</table>\n",
       "</div>"
      ],
      "text/plain": [
       "                                                      Titel       rm doktyp  \\\n",
       "h60310_0  Riksrevisionens rapport om deltagarantal i nya...  2018/19   prop   \n",
       "h60310_1  Riksrevisionens rapport om deltagarantal i nya...  2018/19   prop   \n",
       "h60310_2  Riksrevisionens rapport om deltagarantal i nya...  2018/19   prop   \n",
       "h60310_3  Riksrevisionens rapport om deltagarantal i nya...  2018/19   prop   \n",
       "h60310_4  Riksrevisionens rapport om deltagarantal i nya...  2018/19   prop   \n",
       "\n",
       "                          Departement Utskott  \\\n",
       "h60310_0  Arbetsmarknadsdepartementet      AU   \n",
       "h60310_1  Arbetsmarknadsdepartementet      AU   \n",
       "h60310_2  Arbetsmarknadsdepartementet      AU   \n",
       "h60310_3  Arbetsmarknadsdepartementet      AU   \n",
       "h60310_4  Arbetsmarknadsdepartementet      AU   \n",
       "\n",
       "                                                   dokdelar  \n",
       "h60310_0  Regeringens skrivelse 2018/19:10 Riksrevisione...  \n",
       "h60310_1  funktionsnedsättning, Arbetsträning med handle...  \n",
       "h60310_2  ett viktigt bidrag till detta arbete. I och me...  \n",
       "h60310_3  Skr. 2018/19:10 Bilaga D E L T A G A R A N T A...  \n",
       "h60310_4  R A N S K N I N G S R A P P O R T F R Å N R I ...  "
      ]
     },
     "execution_count": 2,
     "metadata": {},
     "output_type": "execute_result"
    }
   ],
   "source": [
    "df=pd.read_parquet(PATH_TO_OUTDATA / 'data_dokdelar.pqt')\n",
    "# Drop 2014-2016\n",
    "df=df.loc[~df['rm'].isin(['2014/15','2015/16','2015','2016']),:]\n",
    "df.head()"
   ]
  },
  {
   "cell_type": "code",
   "execution_count": 3,
   "metadata": {},
   "outputs": [
    {
     "data": {
      "text/plain": [
       "(362270, 6)"
      ]
     },
     "execution_count": 3,
     "metadata": {},
     "output_type": "execute_result"
    }
   ],
   "source": [
    "df.shape"
   ]
  },
  {
   "cell_type": "code",
   "execution_count": 4,
   "metadata": {},
   "outputs": [],
   "source": [
    "# load Modell_sbertKB_deldok_2017_22.mod from PATH_TO_MODELS\n",
    "model = Top2Vec.load(PATH_TO_MODELS / 'Modell_sbertKB_deldok_2017_22.mod')"
   ]
  },
  {
   "cell_type": "code",
   "execution_count": 6,
   "metadata": {},
   "outputs": [],
   "source": [
    "# index document vectors\n",
    "model.index_document_vectors()"
   ]
  },
  {
   "cell_type": "code",
   "execution_count": 11,
   "metadata": {},
   "outputs": [],
   "source": [
    "# Set embedding model\n",
    "sentence_model = SentenceTransformer('KBLab/sentence-bert-swedish-cased').encode\n",
    "model.set_embedding_model(sentence_model)"
   ]
  },
  {
   "cell_type": "code",
   "execution_count": 7,
   "metadata": {},
   "outputs": [
    {
     "name": "stdout",
     "output_type": "stream",
     "text": [
      "arbetslöshets 0.9742750149488548\n",
      "sysselsätt 0.9637708920418987\n",
      "sysselsättnings 0.9635155742923663\n",
      "anställning 0.959090745525697\n",
      "anställningar 0.9522519159358616\n",
      "anställnings 0.9503860012360351\n",
      "arbetsmarknad 0.9483932955412877\n",
      "arbetsmark 0.9483547367279711\n",
      "arbetsmarknaden 0.9451331412538372\n",
      "arbetskraften 0.9440815764605993\n"
     ]
    }
   ],
   "source": [
    "for w, s in zip(*model.similar_words(['arbetslöshet','sysselsättning'],10)):\n",
    "    print(w,s)"
   ]
  },
  {
   "cell_type": "code",
   "execution_count": 8,
   "metadata": {},
   "outputs": [],
   "source": [
    "qt=\"\"\"Socialdemokraterna, Moderaterna, Miljöpartiet de gröna, Centerpartiet \n",
    "och Kristdemokraterna slöt den 10 juni 2016 en ramöverenskommelse om \n",
    "energipolitiken, den s.k. energiöverenskommelsen. Energiöverenskommelsen utgör en gemensam politisk färdplan för en kontrollerad övergång \n",
    "till ett helt förnybart elsystem med nya energipolitiska mål. Med överenskommelsen som grund lämnas i denna proposition förslag om nya energipolitiska mål och regeringens bedömning av inriktningen av energipolitiken. \n",
    "Regeringen föreslår att energipolitikens tre grundpelare – försörjningstrygghet, konkurrenskraft och ekologisk hållbarhet – fastställs som övergripande mål för energipolitiken. \n",
    "Vidare föreslår regeringen att målet år 2040 ska vara 100 procent förnybar elproduktion. Det är ett mål, inte ett stoppdatum som förbjuder kärnkraft och innebär inte heller en stängning av kärnkraft med politiska beslut. \n",
    "Regeringen föreslår också att Sverige år 2030 ska ha 50 procent effektivare energianvändning jämfört med 2005, uttryckt i termer av tillförd \n",
    "energi i relation till bruttonationalprodukten (BNP). \n",
    "I propositionen presenteras även regeringens bedömning av inriktningen \n",
    "av energipolitiken mot bakgrund av energiöverenskommelsen. \n",
    "\"\"\""
   ]
  },
  {
   "cell_type": "code",
   "execution_count": 14,
   "metadata": {},
   "outputs": [],
   "source": [
    "from transformers import AutoTokenizer\n",
    "tokenizer = AutoTokenizer.from_pretrained('KBLab/sentence-bert-swedish-cased').tokenize"
   ]
  },
  {
   "cell_type": "code",
   "execution_count": 12,
   "metadata": {},
   "outputs": [],
   "source": [
    "docs, scores, ids = model.query_documents(qt,10,use_index=True, tokenizer=tokenizer)"
   ]
  },
  {
   "cell_type": "code",
   "execution_count": 21,
   "metadata": {},
   "outputs": [],
   "source": [
    "df.reset_index(inplace=True)"
   ]
  },
  {
   "cell_type": "code",
   "execution_count": 26,
   "metadata": {},
   "outputs": [
    {
     "data": {
      "text/html": [
       "<div>\n",
       "<style scoped>\n",
       "    .dataframe tbody tr th:only-of-type {\n",
       "        vertical-align: middle;\n",
       "    }\n",
       "\n",
       "    .dataframe tbody tr th {\n",
       "        vertical-align: top;\n",
       "    }\n",
       "\n",
       "    .dataframe thead th {\n",
       "        text-align: right;\n",
       "    }\n",
       "</style>\n",
       "<table border=\"1\" class=\"dataframe\">\n",
       "  <thead>\n",
       "    <tr style=\"text-align: right;\">\n",
       "      <th></th>\n",
       "      <th>index</th>\n",
       "      <th>Titel</th>\n",
       "      <th>rm</th>\n",
       "      <th>doktyp</th>\n",
       "      <th>Departement</th>\n",
       "      <th>Utskott</th>\n",
       "      <th>dokdelar</th>\n",
       "    </tr>\n",
       "  </thead>\n",
       "  <tbody>\n",
       "    <tr>\n",
       "      <th>0</th>\n",
       "      <td>h60310_0</td>\n",
       "      <td>Riksrevisionens rapport om deltagarantal i nya...</td>\n",
       "      <td>2018/19</td>\n",
       "      <td>prop</td>\n",
       "      <td>Arbetsmarknadsdepartementet</td>\n",
       "      <td>AU</td>\n",
       "      <td>Regeringens skrivelse 2018/19:10 Riksrevisione...</td>\n",
       "    </tr>\n",
       "    <tr>\n",
       "      <th>1</th>\n",
       "      <td>h60310_1</td>\n",
       "      <td>Riksrevisionens rapport om deltagarantal i nya...</td>\n",
       "      <td>2018/19</td>\n",
       "      <td>prop</td>\n",
       "      <td>Arbetsmarknadsdepartementet</td>\n",
       "      <td>AU</td>\n",
       "      <td>funktionsnedsättning, Arbetsträning med handle...</td>\n",
       "    </tr>\n",
       "    <tr>\n",
       "      <th>2</th>\n",
       "      <td>h60310_2</td>\n",
       "      <td>Riksrevisionens rapport om deltagarantal i nya...</td>\n",
       "      <td>2018/19</td>\n",
       "      <td>prop</td>\n",
       "      <td>Arbetsmarknadsdepartementet</td>\n",
       "      <td>AU</td>\n",
       "      <td>ett viktigt bidrag till detta arbete. I och me...</td>\n",
       "    </tr>\n",
       "    <tr>\n",
       "      <th>3</th>\n",
       "      <td>h60310_3</td>\n",
       "      <td>Riksrevisionens rapport om deltagarantal i nya...</td>\n",
       "      <td>2018/19</td>\n",
       "      <td>prop</td>\n",
       "      <td>Arbetsmarknadsdepartementet</td>\n",
       "      <td>AU</td>\n",
       "      <td>Skr. 2018/19:10 Bilaga D E L T A G A R A N T A...</td>\n",
       "    </tr>\n",
       "    <tr>\n",
       "      <th>4</th>\n",
       "      <td>h60310_4</td>\n",
       "      <td>Riksrevisionens rapport om deltagarantal i nya...</td>\n",
       "      <td>2018/19</td>\n",
       "      <td>prop</td>\n",
       "      <td>Arbetsmarknadsdepartementet</td>\n",
       "      <td>AU</td>\n",
       "      <td>R A N S K N I N G S R A P P O R T F R Å N R I ...</td>\n",
       "    </tr>\n",
       "  </tbody>\n",
       "</table>\n",
       "</div>"
      ],
      "text/plain": [
       "      index                                              Titel       rm  \\\n",
       "0  h60310_0  Riksrevisionens rapport om deltagarantal i nya...  2018/19   \n",
       "1  h60310_1  Riksrevisionens rapport om deltagarantal i nya...  2018/19   \n",
       "2  h60310_2  Riksrevisionens rapport om deltagarantal i nya...  2018/19   \n",
       "3  h60310_3  Riksrevisionens rapport om deltagarantal i nya...  2018/19   \n",
       "4  h60310_4  Riksrevisionens rapport om deltagarantal i nya...  2018/19   \n",
       "\n",
       "  doktyp                  Departement Utskott  \\\n",
       "0   prop  Arbetsmarknadsdepartementet      AU   \n",
       "1   prop  Arbetsmarknadsdepartementet      AU   \n",
       "2   prop  Arbetsmarknadsdepartementet      AU   \n",
       "3   prop  Arbetsmarknadsdepartementet      AU   \n",
       "4   prop  Arbetsmarknadsdepartementet      AU   \n",
       "\n",
       "                                            dokdelar  \n",
       "0  Regeringens skrivelse 2018/19:10 Riksrevisione...  \n",
       "1  funktionsnedsättning, Arbetsträning med handle...  \n",
       "2  ett viktigt bidrag till detta arbete. I och me...  \n",
       "3  Skr. 2018/19:10 Bilaga D E L T A G A R A N T A...  \n",
       "4  R A N S K N I N G S R A P P O R T F R Å N R I ...  "
      ]
     },
     "execution_count": 26,
     "metadata": {},
     "output_type": "execute_result"
    }
   ],
   "source": [
    "df.head()"
   ]
  },
  {
   "cell_type": "code",
   "execution_count": 24,
   "metadata": {},
   "outputs": [
    {
     "name": "stdout",
     "output_type": "stream",
     "text": [
      "Document: 191159, Score: 0.9541310667991638, Title: För en god och jämlik hälsa - En utveckling av det folkhälsopolitiska ramverket\n",
      "-----------\n",
      "ur protokoll vid regeringssammanträde den 12 april 2018........ 80 rop. 2017/18:228 1Förslag till riksdagsbeslut Regeringen föreslår att riksdagen godkänner regeringens förslag till 1.övergripande mål för energipolitiken (avsnitt 5.1), 2.mål för andelen förnybar elproduktion (avsnitt 5.2), 3.mål för effektivare energianvändning (avsnitt 5.3), 4.upphävande av riksdagsbindningar avseende riktlinjer för energipolitiken (avsnitt 5.4). Prop. 2017/18:228 2Ärendet och dess beredning I mars 2015 beslutade regeringen att tillsätta en kommitté i form av en parlamentarisk kommission för översyn av energipolitiken (dir. 2015:25). Den s.k. Energikommissionens uppdrag var enligt direktivet att ta fram underlag för en bred överenskommelse om energipolitiken med särskilt fokus på förhållandena för elförsörjningen efter år 2025–2030. Den 10 juni 2016 slöts en ramöverenskommelse om den svenska energipolitiken mellan fem av riksdagens partier: Socialdemokraterna, Moderaterna, Miljöpartiet de gröna, Centerpartiet och Kristdemokraterna, se bilaga 1. Ramöverenskommelsen (även kallad energiöverenskommelsen) ligger till grund för de förslag och bedömningar som finns i Energikommissionens betänkande Kraftsamling för framtidens energi (SOU 2017:2) som överlämnades i januari 2017, se bilaga 2. Betänkandet har remissbehandlats. En förteckning över remissinstanserna finns i bilaga 3. Remissvaren finns tillgängliga i Miljö- och energidepartementet (dnr M2017/00026/Ee). Med energiöverenskommelsen som grund föreslås i denna proposition nya energipolitiska mål och regeringen redovisar sin bedömning av inriktningen av energipolitiken. Regeringen avser att i ett annat ärende återkomma till riksdagen om byggnaders energiprestanda 3Andra förslag för att genomföra energiöverenskommelsen ör att genomföra energiöverenskommelsen finns eller kommer det att finnas förslag från regeringen i följande propositioner: Propositionen Forskning och innovation på energiområdet för ekologisk hållbarhet, konkurrenskraft och försörjningstrygghet (prop. 2016/17:66) lämnades till riksdagen i december 2016. Propositionen Skatteförslag med anledning av energiöverenskommelsen (prop. 2016/17:142) lämnades till riksdagen i mars 2017. Propositionen Ett klimatpolitiskt ramverk för Sverige (prop. 2016/17:146), som lämnades till riksdagen i mars 2017, behandlar nya klimatpolitiska mål som har relevans för energipolitiken. Propositionen Nytt mål för förnybar el och kontrollstation för elcertifikatssystemet 2017 (prop. 2016/17:179) lämnades till riksdagen i april 2017. Propositionen Avtal om ändring av avtalet mellan Sverige och Norge om en gemensam elcertifikatsmarknad (prop. 2016/17:187) lämnades till riksdagen i maj 2017. Propositionen Reglerna om finansiering av kärnavfallshanteringen (prop. 2016/17:199) lämnades till riksdagen i juni 2017. Prop. 2017/18:228 En proposition om vattenmiljö och vattenkraft är planerad att lämnas till riksdagen i april 2018. En proposition om elmarknadsfrågor är planerad att lämnas till riksdagen i april 2018. En proposition om ökat\n",
      "-----------\n",
      "\n",
      "Document: 267515, Score: 0.9534177780151367, Title: Ett effektivare regelverk för utlänningsärenden med säkerhetsaspekter\n",
      "-----------\n",
      "Målet för den svenska energipolitiken är att på kort och lång sikt trygga tillgången på el och annan energi med omvärlden konkurrenskraftiga villkor (prop. 1996/97:84). Energipolitiken ska skapa villkoren för en effektiv och hållbar energianvändning och en kostnadseffektiv svensk energiförsörjning med låg negativ påverkan på hälsa, miljö och klimat samt underlätta omställningen till ett ekologiskt hållbart samhälle. I enlighet med regeringens proposition En sammanhållen klimat- och energipolitik – Energi beslutade riksdagen 2009 om följande nya energipolitiska mål (prop. 2008/09:163, bet. 2008/09:NU25, rskr. 2008/09:301): •Andelen förnybar energi ska utgöra minst 50 procent av den totala energianvändningen 2020. •Andelen förnybar energi i transportsektorn ska vara minst 10 procent 2020. •Energianvändningen ska vara 20 procent effektivare till 2020. Det sistnämnda målet uttrycks som ett sektorsövergripande mål om minskad energiintensitet med 20 procent mellan 2008 och 2020 Bilaga 1 OU 2018:15 Energikommissionen och ramöverenskommelsen I mars 2015 beslutade regeringen att tillkalla en parlamentariskt sammansatt kommission – Energikommissionen (M 2015:01) – med uppdrag att lämna underlag till en bred politisk överenskommelse om den långsiktiga energipolitiken. Energikommissionen överlämnade i januari 2017 sitt betänkande Kraftsamling för framtidens energi (SOU 2017:02) till regeringen. Energikommissionens förslag och bedömningar baseras i huvudsak på den ramöverenskommelse om energipolitiken som slöts mellan fem riksdagspartier (S, M, MP, C och KD) i juni 2016. Energikommissionen föreslår bland annat att målet för 2040 är 100 procent förnybar elproduktion. Detta är ett mål, inte ett stoppdatum som förbjuder kärnkraft och innebär inte heller en stängning av kärnkraft med politiska beslut. Kommissionen föreslår vidare att Sverige år 2030 ska ha 50 procent effektivare energianvändning jämfört med 2005. Målet uttrycks i termer av tillförd energi i relation till bruttonationalprodukten (BNP). Energikommissionen föreslår även att Statens energimyndighet ska ges i uppdrag att tillsammans med olika branscher formulera sektorsstrategier för energieffektivisering. En utgångspunkt för Energikommissionens förslag och bedömningar är att Sverige senast år 2045 inte ska ha några nettoutsläpp av växthusgaser till atmosfären, för att därefter uppnå negativa utsläpp. Energikommissionen lämnar en rad förslag och bedömningar som ska göra det möjligt att nå målen. Bland annat gör kommissionen bedömningen att en effektiv användning av el och annan energi är gynnsam för såväl hushåll och företag som för det svenska elsystemet. Enligt kommissionen är en effektivisering, framför allt vad gäller effekt, särskilt viktig för att möta de framtida utmaningarna för det svenska elsystemet. Kommissionen\n",
      "-----------\n",
      "\n",
      "Document: 191157, Score: 0.9490801095962524, Title: För en god och jämlik hälsa - En utveckling av det folkhälsopolitiska ramverket\n",
      "-----------\n",
      "Regeringens proposition 2017/18:228 Energipolitikens inriktning Prop. 2017/18:228 Regeringen överlämnar denna proposition till riksdagen Stockholm den 12 april 2018 tefan Löfven Ibrahim Baylan (Miljö- och energidepartementet) Propositionens huvudsakliga innehåll Socialdemokraterna, Moderaterna, Miljöpartiet de gröna, Centerpartiet och Kristdemokraterna slöt den 10 juni 2016 en ramöverenskommelse om energipolitiken, den s.k. energiöverenskommelsen. Energiöverenskommelsen utgör en gemensam politisk färdplan för en kontrollerad övergång till ett helt förnybart elsystem med nya energipolitiska mål. Med överenskommelsen som grund lämnas i denna proposition förslag om nya energipolitiska mål och regeringens bedömning av inriktningen av energipolitiken. Regeringen föreslår att energipolitikens tre grundpelare – försörjningstrygghet, konkurrenskraft och ekologisk hållbarhet – fastställs som övergripande mål för energipolitiken. Vidare föreslår regeringen att målet år 2040 ska vara 100 procent förnybar elproduktion. Det är ett mål, inte ett stoppdatum som förbjuder kärnkraft och innebär inte heller en stängning av kärnkraft med politiska beslut. Regeringen föreslår också att Sverige år 2030 ska ha 50 procent effektivare energianvändning jämfört med 2005, uttryckt i termer av tillförd energi i relation till bruttonationalprodukten (BNP). I propositionen presenteras även regeringens bedömning av inriktningen av energipolitiken mot bakgrund av energiöverenskommelsen. Prop. 2017/18:228 Innehållsförteckning 1 Förslag till riksdagsbeslut ................................................................. 4 2 Ärendet och dess beredning.............................................................. 5 3 Andra förslag för att genomföra energiöverenskommelsen.............. 5 4 Det svenska energisystemet i dag ..................................................... 6 4.1 Trender i utvecklingen av energisystemet.......................... 6 4.2Betydelsen av elförsörjningen och dess särskilda utmaningar.......................................................................... 8 4.3 Energi, effekt och andra begrepp........................................ 9 4.4 Gällande energipolitiska riktlinjer och mål...................... 13 4.4.1 EU:s energipolitiska mål ................................. 13 4.4.2 Svenska energipolitiska riktlinjer och mål ...... 13 4.5 Klimatpolitiska mål.......................................................... 15 5 Energiöverenskommelsen ger nya energipolitiska mål................... 15 5.1 Energipolitikens grundpelare ........................................... 15 5.2År 2040 ska 100 procent av elproduktionen vara förnybar............................................................................ 17 5.3År 2030 ska energianvändningen vara 50 procent effektivare ........................................................................ 19 5.4 Upphävande av riktlinjer för energipolitiken ................... 21 5.5 Genomförande av de nya energipolitiska målen .............. 22 6Energiöverenskommelsens inverkan på inriktningen av energipolitiken ................................................................................ 22 6.1 Ramvillkor för elproduktion............................................. 22 6.2 Ökad effekt från förnybar kraft ........................................ 29 6.3 Effektiv användning av energi ......................................... 33 6.4 Behov av ny överföringskapacitet.................................... 34 6.5 Reglering av elnät............................................................. 37 6.6 Möjligheter för elnätsägarna ............................................ 39 6.7 Möjlighet att prova nya tariffer ........................................ 40 6.8 Grunden för elmarknadsmodellen.................................... 42 6.9 Samarbete på den gemensamma elmarknaden................. 44 6.10 Behov av systemtjänster................................................... 45 6.11Betydelsen av aktiva elkunder och efterfrågeflexibilitet..........................................................\n",
      "-----------\n",
      "\n",
      "Document: 199488, Score: 0.9360616207122803, Title: Nästa steg? Förslag för en stärkt minoritetspolitik\n",
      "-----------\n",
      "energianvändning Regeringen beslutade i mars 2015 att tillsätta en parlamentarisk kommission, den s.k. Energikommissionen, för att ta fram underlag för en bred överenskommelse om den långsiktiga energipolitiken. I juni 2016 slöts en ramöverenskommelse mellan fem av riksdagens partier: Socialdemokraterna, Moderaterna, Miljöpartiet de gröna, Centerpartiet och Kristdemokraterna. Överenskommelsen ligger till grund för Energikommissionens betänkande Kraftsamling för framtidens energi (SOU 2017:2). Regeringen har föreslagit nya energipolitiska mål i propositionen Energipolitikens inriktning (prop. 2017/18:228): –År 2040 är elproduktionen 100 procent förnybar. Det är ett mål, inte ett stoppdatum som förbjuder kärnkraft och innebär inte heller en stängning av kärnkraft med politiska beslut. –År 2030 ska Sverige ha 50 procent effektivare energianvändning jämfört med 2005, uttryckt i termer av tillförd energi i relation till bruttonationalprodukten (BNP) i fasta priser. I begreppet tillförd energi ingår inte användning av energibärare för ickeenergiändamål och utrikes luft- och sjöfart. Skr. 2017/18:265 Målen bidrar till att underlätta förnyelsen och omställningen av energisystemet. Energipolitikens grundpelare är försörjningstrygghet, konkurrenskraft och ekologisk hållbarhet. I propositionen Elmarknadsfrågor (prop. 2017/18:237) lämnas förslag som bidrar till en ökad efterfrågeflexibilitet, vilket regeringen bedömer kommer att bli en resurs för det svenska elsystemet. I propositionen Vattenmiljö och vattenkraft (prop. 2017/18:243) beskrivs hur vattenkraften ska förses med moderna miljövillkor och hur prövningssystemet ska utformas på ett sätt som inte blir onödigt administrativt och ekonomiskt betungande för den enskilde i förhållande till den eftersträvade miljönyttan. Det statliga stödet för kommunal energi och klimatrådgivning har förlängts och utökats med totalt 485 miljoner kronor 2018–2020. Stödet för lokal och regional energi- och klimatomställning som infördes 2017 har också förlängts och utökats med 290 miljoner kronor 2018–2020. Den kommunala energi- och klimatrådgivningen är en kostnadsfri och kommersiellt oberoende tjänst med hushåll, små och medelstora företag, bostadsrättsföreningar och organisationer som målgrupp. I juni 2017 antog riksdagen regeringens förslag att utöka elcertifikatsystemet med 18 TWh till 2030 och att förlänga elcertifikatsystemet till 2045. Svensk solelproduktion omfattas av ett antal olika stöd, bl.a. investeringsstöd, elcertifikat och skattenedsättningar. Energimyndigheten fick i juni 2017 i uppdrag att ta fram sektorsstrategier för energieffektivisering. En särskild satsning på 125 miljoner kronor fördelade under 2018–2020, Energisteget, kommer att genomföras med syfte att främja energieffektivisering i industrin. Ett reduktionspliktsystem som ålägger leverantörer av drivmedel att successivt minska utsläppen av växthusgaser från bensin och dieselbränsle genom inblandning av hållbara biodrivmedel införs den 1 juli 2018 Insatser\n",
      "-----------\n",
      "\n",
      "Document: 227792, Score: 0.9289795160293579, Title: Resurseffektiv användning av byggmaterial\n",
      "-----------\n",
      "av energisystemet – tillförsel, omvandling, överföring, lagring och användning. En bred politisk överenskommelse om energipolitikens långsiktiga inriktning skapar förutsättningar för att klara dessa utmaningar. Det ger tydliga och stabila ramvillkor för marknadens aktörer och bidrar till nya jobb och investeringar i Sverige. Den 10 juni 2016 slöts en ramöverenskommelse mellan fem av riksdagens partier: Socialdemokraterna, Moderaterna, Miljöpartiet de gröna, Centerpartiet och Kristdemokraterna. Ramöverenskommelsen har legat till grund för de förslag och bedömningar som lämnas i detta betänkande. Överenskommelsen återges här i sin helhet Energikommissionens förslag och bedömningar OU 2017:2 7.1Ramöverenskommelse Grundpelare Den svenska energipolitiken ska bygga på samma tre grundpelare som energisamarbetet i EU. Politiken syftar alltså till att förena: •Ekologisk hållbarhet •Konkurrenskraft •Försörjningstrygghet Sverige ska ha ett robust elsystem med en hög leveranssäkerhet, en låg miljöpåverkan och el till konkurrenskraftiga priser. Det skapar långsiktighet och tydlighet för marknadens aktörer och bidrar till nya jobb och investeringar i Sverige. Energipolitiken tar sin utgångspunkt i att Sverige är tätt sammankopplat med sina grannländer i norra Europa och syftar till att hitta gemensamma lösningar på utmaningar på den gemensamma elmarknaden Mål enast år 2045 ska Sverige inte ha några nettoutsläpp av växthusgaser till atmosfären, för att därefter uppnå negativa utsläpp. Målet år 2040 är 100 procent förnybar elproduktion. Detta är ett mål, inte ett stoppdatum som förbjuder kärnkraft och innebär inte heller en stängning av kärnkraft med politiska beslut. Ett mål för energieffektivisering för perioden 2020 till 2030 ska tas fram och beslutas senast 2017 Förutsättningar på den svenska elmarknaden et behövs bättre förutsättningar för investeringar i förnybar energi, energiteknik och energieffektiviseringar. Utvecklingen av energisystemet ska utgå från en mångfald av storskalig och småskalig förnybar produktion som är anpassad till lokala och industriella behov. En stor utmaning är att förändra energipolitiken från att nästan enbart fokusera på levererad mängd energi (TWh) till att även se till att det finns tillräckligt med effekt (MW). Ett viktigt steg bör vara att SOU 2017:2 Energikommissionens förslag och bedömningar se över regelverk på energiområdet och modifiera dem så att de är anpassade till effektutmaningen. Hit hör såväl frågor rörande marknadsdesign som insatser på produktions, överförings- och efterfrågesidan Kärnkraft vensk kärnkraft står inför stora investeringsbehov för att möta kommande säkerhetskrav. Strålsäkerhetsmyndigheten har beslutat att dessa krav behöver vara uppfyllda 2020, i annat fall får reaktorerna inte drivas vidare. Det har redan\n",
      "-----------\n",
      "\n",
      "Document: 293213, Score: 0.9280221462249756, Title: Producentansvar för textil - en del av den cirkulära ekonomin \n",
      "-----------\n",
      "motiverat, lämna förslag till nya styrmedel Bakgrund ällande mål för energipolitiken Målet för den svenska energipolitiken är att på kort och lång sikt trygga tillgången på el och annan energi med omvärlden konkurrenskraftiga villkor (prop. 1996/97:84). Energipolitiken ska skapa villkoren för en effektiv och hållbar energianvändning och en kostnadseffektiv svensk energiförsörjning med låg negativ påverkan på hälsa, miljö och klimat samt underlätta omställningen till ett ekologiskt hållbart samhälle. I enlighet med regeringens proposition En sammanhållen klimat- och energipolitik – Energi beslutade riksdagen 2009 om följande nya energipolitiska mål (prop. 2008/09:163, bet. 2008/09:NU25, rskr. 2008/09:301): •Andelen förnybar energi ska utgöra minst 50 procent av den totala energianvändningen 2020. •Andelen förnybar energi i transportsektorn ska vara minst 10 procent 2020. •Energianvändningen ska vara 20 procent effektivare till 2020. Det sistnämnda målet uttrycks som ett sektorsövergripande mål om minskad energiintensitet med 20 procent mellan 2008 och 2020 Bilaga 1 OU 2018:76 Energikommissionen och ramöverenskommelsen I mars 2015 beslutade regeringen att tillkalla en parlamentariskt sammansatt kommission – Energikommissionen (M 2015:01) – med uppdrag att lämna underlag till en bred politisk överenskommelse om den långsiktiga energipolitiken. Energikommissionen överlämnade i januari 2017 sitt betänkande Kraftsamling för framtidens energi (SOU 2017:02) till regeringen. Energikommissionens förslag och bedömningar baseras i huvudsak på den ramöverenskommelse om energipolitiken som slöts mellan fem riksdagspartier (S, M, MP, C och KD) i juni 2016. Energikommissionen föreslår bland annat att målet för 2040 är 100 procent förnybar elproduktion. Detta är ett mål, inte ett stoppdatum som förbjuder kärnkraft och innebär inte heller en stängning av kärnkraft med politiska beslut. Kommissionen föreslår vidare att Sverige år 2030 ska ha 50 procent effektivare energianvändning jämfört med 2005. Målet uttrycks i termer av tillförd energi i relation till bruttonationalprodukten (BNP). Energikommissionen föreslår även att Statens energimyndighet ska ges i uppdrag att tillsammans med olika branscher formulera sektorsstrategier för energieffektivisering. En utgångspunkt för Energikommissionens förslag och bedömningar är att Sverige senast år 2045 inte ska ha några nettoutsläpp av växthusgaser till atmosfären, för att därefter uppnå negativa utsläpp. Energikommissionen lämnar en rad förslag och bedömningar som ska göra det möjligt att nå målen. Bland annat gör kommissionen bedömningen att en effektiv användning av el och annan energi är gynnsam för såväl hushåll och företag som för det svenska elsystemet. Enligt kommissionen är en effektivisering, framför allt vad gäller effekt, särskilt viktig\n",
      "-----------\n",
      "\n"
     ]
    },
    {
     "ename": "KeyError",
     "evalue": "428819",
     "output_type": "error",
     "traceback": [
      "\u001b[1;31m---------------------------------------------------------------------------\u001b[0m",
      "\u001b[1;31mValueError\u001b[0m                                Traceback (most recent call last)",
      "File \u001b[1;32mc:\\Datalab\\ML_projekt\\venv38\\lib\\site-packages\\pandas\\core\\indexes\\range.py:391\u001b[0m, in \u001b[0;36mRangeIndex.get_loc\u001b[1;34m(self, key, method, tolerance)\u001b[0m\n\u001b[0;32m    390\u001b[0m \u001b[39mtry\u001b[39;00m:\n\u001b[1;32m--> 391\u001b[0m     \u001b[39mreturn\u001b[39;00m \u001b[39mself\u001b[39;49m\u001b[39m.\u001b[39;49m_range\u001b[39m.\u001b[39;49mindex(new_key)\n\u001b[0;32m    392\u001b[0m \u001b[39mexcept\u001b[39;00m \u001b[39mValueError\u001b[39;00m \u001b[39mas\u001b[39;00m err:\n",
      "\u001b[1;31mValueError\u001b[0m: 428819 is not in range",
      "\nThe above exception was the direct cause of the following exception:\n",
      "\u001b[1;31mKeyError\u001b[0m                                  Traceback (most recent call last)",
      "Cell \u001b[1;32mIn [24], line 2\u001b[0m\n\u001b[0;32m      1\u001b[0m \u001b[39mfor\u001b[39;00m doc, score, doc_id \u001b[39min\u001b[39;00m \u001b[39mzip\u001b[39m(docs, scores, ids):\n\u001b[1;32m----> 2\u001b[0m     \u001b[39mprint\u001b[39m(\u001b[39mf\u001b[39m\u001b[39m\"\u001b[39m\u001b[39mDocument: \u001b[39m\u001b[39m{\u001b[39;00mdoc_id\u001b[39m}\u001b[39;00m\u001b[39m, Score: \u001b[39m\u001b[39m{\u001b[39;00mscore\u001b[39m}\u001b[39;00m\u001b[39m, Title: \u001b[39m\u001b[39m{\u001b[39;00mdf\u001b[39m.\u001b[39mloc[doc_id,\u001b[39m'\u001b[39m\u001b[39mTitel\u001b[39m\u001b[39m'\u001b[39m]\u001b[39m}\u001b[39;00m\u001b[39m\"\u001b[39m)\n\u001b[0;32m      3\u001b[0m     \u001b[39mprint\u001b[39m(\u001b[39m\"\u001b[39m\u001b[39m-----------\u001b[39m\u001b[39m\"\u001b[39m)\n\u001b[0;32m      4\u001b[0m     \u001b[39mprint\u001b[39m(doc)\n",
      "File \u001b[1;32mc:\\Datalab\\ML_projekt\\venv38\\lib\\site-packages\\pandas\\core\\indexing.py:1066\u001b[0m, in \u001b[0;36m_LocationIndexer.__getitem__\u001b[1;34m(self, key)\u001b[0m\n\u001b[0;32m   1064\u001b[0m     key \u001b[39m=\u001b[39m \u001b[39mtuple\u001b[39m(com\u001b[39m.\u001b[39mapply_if_callable(x, \u001b[39mself\u001b[39m\u001b[39m.\u001b[39mobj) \u001b[39mfor\u001b[39;00m x \u001b[39min\u001b[39;00m key)\n\u001b[0;32m   1065\u001b[0m     \u001b[39mif\u001b[39;00m \u001b[39mself\u001b[39m\u001b[39m.\u001b[39m_is_scalar_access(key):\n\u001b[1;32m-> 1066\u001b[0m         \u001b[39mreturn\u001b[39;00m \u001b[39mself\u001b[39;49m\u001b[39m.\u001b[39;49mobj\u001b[39m.\u001b[39;49m_get_value(\u001b[39m*\u001b[39;49mkey, takeable\u001b[39m=\u001b[39;49m\u001b[39mself\u001b[39;49m\u001b[39m.\u001b[39;49m_takeable)\n\u001b[0;32m   1067\u001b[0m     \u001b[39mreturn\u001b[39;00m \u001b[39mself\u001b[39m\u001b[39m.\u001b[39m_getitem_tuple(key)\n\u001b[0;32m   1068\u001b[0m \u001b[39melse\u001b[39;00m:\n\u001b[0;32m   1069\u001b[0m     \u001b[39m# we by definition only have the 0th axis\u001b[39;00m\n",
      "File \u001b[1;32mc:\\Datalab\\ML_projekt\\venv38\\lib\\site-packages\\pandas\\core\\frame.py:3921\u001b[0m, in \u001b[0;36mDataFrame._get_value\u001b[1;34m(self, index, col, takeable)\u001b[0m\n\u001b[0;32m   3915\u001b[0m engine \u001b[39m=\u001b[39m \u001b[39mself\u001b[39m\u001b[39m.\u001b[39mindex\u001b[39m.\u001b[39m_engine\n\u001b[0;32m   3917\u001b[0m \u001b[39mif\u001b[39;00m \u001b[39mnot\u001b[39;00m \u001b[39misinstance\u001b[39m(\u001b[39mself\u001b[39m\u001b[39m.\u001b[39mindex, MultiIndex):\n\u001b[0;32m   3918\u001b[0m     \u001b[39m# CategoricalIndex: Trying to use the engine fastpath may give incorrect\u001b[39;00m\n\u001b[0;32m   3919\u001b[0m     \u001b[39m#  results if our categories are integers that dont match our codes\u001b[39;00m\n\u001b[0;32m   3920\u001b[0m     \u001b[39m# IntervalIndex: IntervalTree has no get_loc\u001b[39;00m\n\u001b[1;32m-> 3921\u001b[0m     row \u001b[39m=\u001b[39m \u001b[39mself\u001b[39;49m\u001b[39m.\u001b[39;49mindex\u001b[39m.\u001b[39;49mget_loc(index)\n\u001b[0;32m   3922\u001b[0m     \u001b[39mreturn\u001b[39;00m series\u001b[39m.\u001b[39m_values[row]\n\u001b[0;32m   3924\u001b[0m \u001b[39m# For MultiIndex going through engine effectively restricts us to\u001b[39;00m\n\u001b[0;32m   3925\u001b[0m \u001b[39m#  same-length tuples; see test_get_set_value_no_partial_indexing\u001b[39;00m\n",
      "File \u001b[1;32mc:\\Datalab\\ML_projekt\\venv38\\lib\\site-packages\\pandas\\core\\indexes\\range.py:393\u001b[0m, in \u001b[0;36mRangeIndex.get_loc\u001b[1;34m(self, key, method, tolerance)\u001b[0m\n\u001b[0;32m    391\u001b[0m         \u001b[39mreturn\u001b[39;00m \u001b[39mself\u001b[39m\u001b[39m.\u001b[39m_range\u001b[39m.\u001b[39mindex(new_key)\n\u001b[0;32m    392\u001b[0m     \u001b[39mexcept\u001b[39;00m \u001b[39mValueError\u001b[39;00m \u001b[39mas\u001b[39;00m err:\n\u001b[1;32m--> 393\u001b[0m         \u001b[39mraise\u001b[39;00m \u001b[39mKeyError\u001b[39;00m(key) \u001b[39mfrom\u001b[39;00m \u001b[39merr\u001b[39;00m\n\u001b[0;32m    394\u001b[0m \u001b[39mself\u001b[39m\u001b[39m.\u001b[39m_check_indexing_error(key)\n\u001b[0;32m    395\u001b[0m \u001b[39mraise\u001b[39;00m \u001b[39mKeyError\u001b[39;00m(key)\n",
      "\u001b[1;31mKeyError\u001b[0m: 428819"
     ]
    }
   ],
   "source": [
    "for doc, score, doc_id in zip(docs, scores, ids):\n",
    "    print(f\"Document: {doc_id}, Score: {score}, Title: {df.loc[doc_id,'Titel']}\")\n",
    "    print(\"-----------\")\n",
    "    print(doc)\n",
    "    print(\"-----------\")\n",
    "    print()\n"
   ]
  },
  {
   "cell_type": "code",
   "execution_count": null,
   "metadata": {},
   "outputs": [],
   "source": []
  }
 ],
 "metadata": {
  "kernelspec": {
   "display_name": "Python 3.8.5 ('venv38': venv)",
   "language": "python",
   "name": "python3"
  },
  "language_info": {
   "codemirror_mode": {
    "name": "ipython",
    "version": 3
   },
   "file_extension": ".py",
   "mimetype": "text/x-python",
   "name": "python",
   "nbconvert_exporter": "python",
   "pygments_lexer": "ipython3",
   "version": "3.8.5"
  },
  "orig_nbformat": 4,
  "vscode": {
   "interpreter": {
    "hash": "be4d06bd6a8705c169ef7be9d2e805a60cd5f71512ae6187da237785db6e99c7"
   }
  }
 },
 "nbformat": 4,
 "nbformat_minor": 2
}
