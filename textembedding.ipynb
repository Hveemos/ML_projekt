{
 "cells": [
  {
   "cell_type": "code",
   "execution_count": 1,
   "metadata": {},
   "outputs": [],
   "source": [
    "import pandas as pd\n",
    "from pathlib import Path\n",
    "import re\n",
    "import pandas as pd\n",
    "import tqdm\n",
    "\n",
    "PATH_TO_FILES=Path('C:\\Datalab\\sida_projekt\\sida_projekt\\Riksdagsdata\\Propositioner')\n",
    "PATH_TO_OUTDATA=Path('data')\n",
    "\n",
    "# Skippa dokument med titlar som innehåller:\n",
    "FILTER_TITLE='vårproposition|budgetproposition|ändringsbudget' # Lämna tom sträng om du inte vill filtrera"
   ]
  },
  {
   "cell_type": "code",
   "execution_count": 2,
   "metadata": {},
   "outputs": [
    {
     "data": {
      "text/html": [
       "<div>\n",
       "<style scoped>\n",
       "    .dataframe tbody tr th:only-of-type {\n",
       "        vertical-align: middle;\n",
       "    }\n",
       "\n",
       "    .dataframe tbody tr th {\n",
       "        vertical-align: top;\n",
       "    }\n",
       "\n",
       "    .dataframe thead th {\n",
       "        text-align: right;\n",
       "    }\n",
       "</style>\n",
       "<table border=\"1\" class=\"dataframe\">\n",
       "  <thead>\n",
       "    <tr style=\"text-align: right;\">\n",
       "      <th></th>\n",
       "      <th>Titel</th>\n",
       "      <th>rm</th>\n",
       "      <th>Departement</th>\n",
       "      <th>Utskott</th>\n",
       "      <th>text</th>\n",
       "    </tr>\n",
       "    <tr>\n",
       "      <th>filename</th>\n",
       "      <th></th>\n",
       "      <th></th>\n",
       "      <th></th>\n",
       "      <th></th>\n",
       "      <th></th>\n",
       "    </tr>\n",
       "  </thead>\n",
       "  <tbody>\n",
       "    <tr>\n",
       "      <th>h60310</th>\n",
       "      <td>Riksrevisionens rapport om deltagarantal i nya...</td>\n",
       "      <td>2018/19</td>\n",
       "      <td>Arbetsmarknadsdepartementet</td>\n",
       "      <td>AU</td>\n",
       "      <td>Regeringens skrivelse 2018/19:10\\n\\nRiksrevisi...</td>\n",
       "    </tr>\n",
       "    <tr>\n",
       "      <th>h603101</th>\n",
       "      <td>Årsredovisning för staten 2018</td>\n",
       "      <td>2018/19</td>\n",
       "      <td>Finansdepartementet</td>\n",
       "      <td>FiU</td>\n",
       "      <td>Årsredovisning för staten 2018\\n\\nRegeringens ...</td>\n",
       "    </tr>\n",
       "    <tr>\n",
       "      <th>h603102</th>\n",
       "      <td>Omedelbart omhändertagande av barn i vissa int...</td>\n",
       "      <td>2018/19</td>\n",
       "      <td>Socialdepartementet</td>\n",
       "      <td>SoU</td>\n",
       "      <td>Regeringens proposition 2018/19:102\\n\\nOmedelb...</td>\n",
       "    </tr>\n",
       "    <tr>\n",
       "      <th>h603103</th>\n",
       "      <td>Kommittéberättelse - kommittéernas verksamhet ...</td>\n",
       "      <td>2018/19</td>\n",
       "      <td>Statsrådsberedningen</td>\n",
       "      <td>KU</td>\n",
       "      <td>Kommittéberättelse - kommittéernas verksamhet ...</td>\n",
       "    </tr>\n",
       "    <tr>\n",
       "      <th>h603104</th>\n",
       "      <td>Sveriges medlemskap i FN:s säkerhetsråd 2017-2018</td>\n",
       "      <td>2018/19</td>\n",
       "      <td>Utrikesdepartementet</td>\n",
       "      <td>UU</td>\n",
       "      <td>Regeringens skrivelse 2018/19:104\\n\\nSveriges ...</td>\n",
       "    </tr>\n",
       "  </tbody>\n",
       "</table>\n",
       "</div>"
      ],
      "text/plain": [
       "                                                      Titel       rm  \\\n",
       "filename                                                               \n",
       "h60310    Riksrevisionens rapport om deltagarantal i nya...  2018/19   \n",
       "h603101                      Årsredovisning för staten 2018  2018/19   \n",
       "h603102   Omedelbart omhändertagande av barn i vissa int...  2018/19   \n",
       "h603103   Kommittéberättelse - kommittéernas verksamhet ...  2018/19   \n",
       "h603104   Sveriges medlemskap i FN:s säkerhetsråd 2017-2018  2018/19   \n",
       "\n",
       "                          Departement Utskott  \\\n",
       "filename                                        \n",
       "h60310    Arbetsmarknadsdepartementet      AU   \n",
       "h603101           Finansdepartementet     FiU   \n",
       "h603102           Socialdepartementet     SoU   \n",
       "h603103          Statsrådsberedningen      KU   \n",
       "h603104          Utrikesdepartementet      UU   \n",
       "\n",
       "                                                       text  \n",
       "filename                                                     \n",
       "h60310    Regeringens skrivelse 2018/19:10\\n\\nRiksrevisi...  \n",
       "h603101   Årsredovisning för staten 2018\\n\\nRegeringens ...  \n",
       "h603102   Regeringens proposition 2018/19:102\\n\\nOmedelb...  \n",
       "h603103   Kommittéberättelse - kommittéernas verksamhet ...  \n",
       "h603104   Regeringens skrivelse 2018/19:104\\n\\nSveriges ...  "
      ]
     },
     "execution_count": 2,
     "metadata": {},
     "output_type": "execute_result"
    }
   ],
   "source": [
    "df=pd.read_pickle(PATH_TO_OUTDATA / 'data.pkl')\n",
    "df=df.reset_index()\n",
    "df.head()"
   ]
  },
  {
   "cell_type": "code",
   "execution_count": 4,
   "metadata": {},
   "outputs": [
    {
     "name": "stderr",
     "output_type": "stream",
     "text": [
      "2022-11-21 21:59:20,647 - top2vec - INFO - Pre-processing documents for training\n",
      "c:\\Datalab\\ML_projekt\\venv38\\lib\\site-packages\\sklearn\\utils\\deprecation.py:87: FutureWarning: Function get_feature_names is deprecated; get_feature_names is deprecated in 1.0 and will be removed in 1.2. Please use get_feature_names_out instead.\n",
      "  warnings.warn(msg, category=FutureWarning)\n",
      "2022-11-21 22:06:44,328 - top2vec - INFO - Downloading universal-sentence-encoder model\n",
      "2022-11-21 22:07:11,006 - top2vec - INFO - Creating joint document/word embedding\n",
      "INFO:top2vec:Creating joint document/word embedding\n",
      "2022-11-21 22:21:06,363 - top2vec - INFO - Creating lower dimension embedding of documents\n",
      "INFO:top2vec:Creating lower dimension embedding of documents\n",
      "2022-11-21 22:22:17,043 - top2vec - INFO - Finding dense areas of documents\n",
      "INFO:top2vec:Finding dense areas of documents\n",
      "2022-11-21 22:22:17,264 - top2vec - INFO - Finding topics\n",
      "INFO:top2vec:Finding topics\n"
     ]
    }
   ],
   "source": [
    "from top2vec import Top2Vec\n",
    "\n",
    "model = Top2Vec(df.text.to_list(), document_chunker='sequential', embedding_model='universal-sentence-encoder')\n",
    "model.save(r\"models\\Modell_11_21_universal.mod\")"
   ]
  },
  {
   "cell_type": "code",
   "execution_count": null,
   "metadata": {},
   "outputs": [],
   "source": []
  }
 ],
 "metadata": {
  "kernelspec": {
   "display_name": "Python 3.8.5 ('venv38': venv)",
   "language": "python",
   "name": "python3"
  },
  "language_info": {
   "codemirror_mode": {
    "name": "ipython",
    "version": 3
   },
   "file_extension": ".py",
   "mimetype": "text/x-python",
   "name": "python",
   "nbconvert_exporter": "python",
   "pygments_lexer": "ipython3",
   "version": "3.8.5"
  },
  "orig_nbformat": 4,
  "vscode": {
   "interpreter": {
    "hash": "be4d06bd6a8705c169ef7be9d2e805a60cd5f71512ae6187da237785db6e99c7"
   }
  }
 },
 "nbformat": 4,
 "nbformat_minor": 2
}
